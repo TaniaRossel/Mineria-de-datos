{
 "cells": [
  {
   "cell_type": "markdown",
   "metadata": {},
   "source": [
    "# Tania Sarahi Rossel Castillo 1810461 "
   ]
  },
  {
   "cell_type": "markdown",
   "metadata": {},
   "source": [
    "## Ejercicio 1\n",
    "Realiza una variable con tu matricula y realiza una secuencia de imprimir con tu nombre y tu matricula concatenados."
   ]
  },
  {
   "cell_type": "code",
   "execution_count": 140,
   "metadata": {},
   "outputs": [
    {
     "name": "stdout",
     "output_type": "stream",
     "text": [
      "mi nombre es:  Tania Sarahi Rossel Castillo  y mi matricula:  1810461\n"
     ]
    }
   ],
   "source": [
    "mat= 1810461\n",
    "nombre= 'Tania Sarahi Rossel Castillo'\n",
    "print (\"mi nombre es: \",nombre,\" y mi matricula: \",mat)"
   ]
  },
  {
   "cell_type": "markdown",
   "metadata": {},
   "source": [
    "## Ejercicio 2\n",
    "Pidiendo el input del usuario pide dos números y crea una pequeña calculadora con los operadores básicos de suma, resta, multiplicación, división, y exponente."
   ]
  },
  {
   "cell_type": "code",
   "execution_count": 37,
   "metadata": {},
   "outputs": [
    {
     "name": "stdout",
     "output_type": "stream",
     "text": [
      "******Calculadora******\n",
      "1.- SUMA        2.- RESTA        3.-MULTIPLICACIÓN        4.-DIVISIÓN        5.-EXPONENTE\n",
      "Introduce una opcion:1\n",
      "Introduce un número:5\n",
      "Introduce un número:4\n",
      "La suma de los números introducidos es:  9.0\n"
     ]
    }
   ],
   "source": [
    "print(\"******Calculadora******\")\n",
    "print(\"1.- SUMA        2.- RESTA        3.-MULTIPLICACIÓN        4.-DIVISIÓN        5.-EXPONENTE\")\n",
    "opcion= int(input(\"Introduce una opcion:\" ))\n",
    "num1=float(input(\"Introduce un número:\" ))\n",
    "num2=float(input(\"Introduce un número:\" ))\n",
    "if(opcion==1):\n",
    "    print(\"La suma de los números introducidos es: \",num1+num2)\n",
    "elif(opcion==2):\n",
    "    print(\"La resta de los números introducidos es: \",num1-num2)\n",
    "elif(opcion==3):\n",
    "    print(\"La multiplicación de los números introducidos es: \",num1*num2)\n",
    "elif(opcion==4):\n",
    "    try:\n",
    "        print(\"La división de los números introducidos es: \",num1/num2) \n",
    "    except ZeroDivisionError:\n",
    "        print(\"No se permite división entre cero\")\n",
    "elif(opcion==5): \n",
    "    print(\"El exponente de los números introducidos es: \",num1**num2)\n",
    "else:\n",
    "    print(\"Opción no válida\")\n",
    "\n",
    "\n"
   ]
  },
  {
   "cell_type": "markdown",
   "metadata": {},
   "source": [
    "## Ejercicio 3\n",
    "Con loop while o for, realiza una lista de 10 numeros multiplos de 3, y después realiza una función de loop que sume todos los números dentro del arreglo."
   ]
  },
  {
   "cell_type": "code",
   "execution_count": 38,
   "metadata": {},
   "outputs": [
    {
     "name": "stdout",
     "output_type": "stream",
     "text": [
      "La lista de 10 números multiplos de 3 es:  [3, 6, 9, 12, 15, 18, 21, 24, 27, 30]\n",
      "La suma de todos los numeros dentro de nuestro arreglo es:  165\n"
     ]
    }
   ],
   "source": [
    "l = []\n",
    "for x in range(1,31):\n",
    "    if x % 3 == 0:\n",
    "        l.append(x)\n",
    "print(\"La lista de 10 números multiplos de 3 es: \",l)\n",
    "def sumar(lista):\n",
    "    suma=0\n",
    "    for l in lista:\n",
    "        suma+=l\n",
    "        \n",
    "    return suma \n",
    "print(\"La suma de todos los numeros dentro de nuestro arreglo es: \",sumar(l))"
   ]
  },
  {
   "cell_type": "markdown",
   "metadata": {},
   "source": [
    "## Ejercicio 4\n",
    "- Con una función de if else, revisar si un número es par o es impar.\n",
    "- Con una función de if else, revisar si un número es primo o no."
   ]
  },
  {
   "cell_type": "code",
   "execution_count": 144,
   "metadata": {},
   "outputs": [
    {
     "name": "stdout",
     "output_type": "stream",
     "text": [
      "Introduce un número:58\n",
      "El número introducido es par\n",
      "Pero no es primo\n"
     ]
    }
   ],
   "source": [
    "n1=int(input(\"Introduce un número:\" ))\n",
    "if n1 % 2 ==0:\n",
    "    print(\"El número introducido es par\")\n",
    "else:\n",
    "    print(\"El número introducido es impar\")\n",
    "cont = 0\n",
    "for n in range(1, n1+1):\n",
    "    if n1 % n == 0:\n",
    "        cont += 1\n",
    "if cont == 2:\n",
    "    print(\"Y ademas es primo\")\n",
    "else:\n",
    "    print(\"Pero no es primo\")"
   ]
  },
  {
   "cell_type": "markdown",
   "metadata": {},
   "source": [
    "## Ejercicio 5 \n",
    "Utilizando diferentes clases en python, crea una calculadora con los operadores básicos de suma, resta, multiplicación, división, y exponente."
   ]
  },
  {
   "cell_type": "code",
   "execution_count": 39,
   "metadata": {},
   "outputs": [
    {
     "name": "stdout",
     "output_type": "stream",
     "text": [
      "******Calculadora******\n",
      "1.- SUMA        2.- RESTA        3.-MULTIPLICACIÓN        4.-DIVISIÓN        5.-EXPONENTE\n",
      "Introduce una opcion:1\n",
      "Introduce un número:1\n",
      "Introduce un número:100\n",
      "La suma de los números introducidos es:  101.0\n"
     ]
    }
   ],
   "source": [
    "print(\"******Calculadora******\")\n",
    "print(\"1.- SUMA        2.- RESTA        3.-MULTIPLICACIÓN        4.-DIVISIÓN        5.-EXPONENTE\")\n",
    "op= int(input(\"Introduce una opcion:\" ))\n",
    "c1=float(input(\"Introduce un número:\" ))\n",
    "c2=float(input(\"Introduce un número:\" ))\n",
    "if(op==1):\n",
    "    def suma(c1,c2):   \n",
    "        return c1+c2\n",
    "    print(\"La suma de los números introducidos es: \",suma(c1,c2))\n",
    "elif(op==2):\n",
    "    def resta(c1,c2):   \n",
    "        return c1-c2\n",
    "    print(\"La resta de los números introducidos es: \",resta(c1,c2))\n",
    "elif(op==3):\n",
    "    def mul(c1,c2):\n",
    "        return c1*c2\n",
    "    print(\"La multiplicación de los números introducidos es: \",mul(c1,c2))\n",
    "elif(op==4):\n",
    "    def div(c1,c2):\n",
    "        return c1/c2\n",
    "    try:\n",
    "        print(\"La división de los números introducidos es: \",div(c1,c2)) \n",
    "    except ZeroDivisionError:\n",
    "        print(\"No se permite división entre cero\")\n",
    "elif(op==5): \n",
    "    def exp(c1,c2):\n",
    "        return c1**c2\n",
    "    print(\"El exponente de los números introducidos es: \",exp(c1,c2))\n",
    "else:\n",
    "    print(\"Opción no válida\")\n",
    "    \n",
    "#Bibliografia: https://entrenamiento-python-basico.readthedocs.io/es/latest/leccion5/funciones.html\n"
   ]
  },
  {
   "cell_type": "markdown",
   "metadata": {},
   "source": [
    "## Ejercicios con estructuras básicas de python.\n",
    "### Tuplas\n",
    "- Crear una variable flotante, integer, boleana y compleja e imprimir el tipo de variable que es."
   ]
  },
  {
   "cell_type": "code",
   "execution_count": 40,
   "metadata": {},
   "outputs": [
    {
     "name": "stdout",
     "output_type": "stream",
     "text": [
      "Un ejemplo de variable flotante es:  0.19 <class 'float'>\n",
      "Un ejemplo de variable integer es:  19 <class 'int'>\n",
      "Un ejemplo de variable booleana es:  True <class 'bool'>\n",
      "Un ejemplo de variable compleja es:  (3.45+2.8j) <class 'complex'>\n"
     ]
    }
   ],
   "source": [
    "flotante=0.19\n",
    "print(\"Un ejemplo de variable flotante es: \",flotante, type(flotante))\n",
    "integer=19\n",
    "print(\"Un ejemplo de variable integer es: \",integer, type(integer))\n",
    "boleana=True\n",
    "print(\"Un ejemplo de variable booleana es: \", boleana, type(boleana))\n",
    "compleja= 3.45+2.8j\n",
    "print(\"Un ejemplo de variable compleja es: \", compleja, type(compleja))"
   ]
  },
  {
   "cell_type": "markdown",
   "metadata": {},
   "source": [
    "\n",
    "- Crear una tupla con valores enteros imprimir el primer y ultimo valor.\n"
   ]
  },
  {
   "cell_type": "code",
   "execution_count": 41,
   "metadata": {},
   "outputs": [
    {
     "name": "stdout",
     "output_type": "stream",
     "text": [
      "El primer es:  1  y ultimo valor de la tupla es:  5\n"
     ]
    }
   ],
   "source": [
    "tupla=(1,2,3,4,5)\n",
    "print(\"El primer es: \",tupla[0],\" y ultimo valor de la tupla es: \", tupla[4])"
   ]
  },
  {
   "cell_type": "markdown",
   "metadata": {},
   "source": [
    "- Añadir 3 valores de string a la tupla.\n"
   ]
  },
  {
   "cell_type": "code",
   "execution_count": 42,
   "metadata": {},
   "outputs": [
    {
     "data": {
      "text/plain": [
       "(1, 2, 3, 4, 5, 'Tania Sarahi', 'Rossel Castillo', 'Python')"
      ]
     },
     "execution_count": 42,
     "metadata": {},
     "output_type": "execute_result"
    }
   ],
   "source": [
    "tupla = tupla.__add__(('Tania Sarahi','Rossel Castillo','Python',))\n",
    "tupla"
   ]
  },
  {
   "cell_type": "markdown",
   "metadata": {},
   "source": [
    "- Verificar si una variable existe dentro de la tupla."
   ]
  },
  {
   "cell_type": "code",
   "execution_count": 43,
   "metadata": {},
   "outputs": [
    {
     "data": {
      "text/plain": [
       "True"
      ]
     },
     "execution_count": 43,
     "metadata": {},
     "output_type": "execute_result"
    }
   ],
   "source": [
    "1 in tupla"
   ]
  },
  {
   "cell_type": "markdown",
   "metadata": {},
   "source": [
    "## Listas\n",
    "- Crear una lista con 40 elementos aleatorios enteros."
   ]
  },
  {
   "cell_type": "code",
   "execution_count": 44,
   "metadata": {},
   "outputs": [
    {
     "name": "stdout",
     "output_type": "stream",
     "text": [
      "La lista de 40 elementos aleatorios enteros es:  [98, 75, 97, 32, 98, 20, 71, 63, 2, 2, 98, 37, 25, 97, 31, 61, 82, 94, 73, 29, 89, 71, 20, 29, 49, 80, 13, 15, 10, 4, 42, 48, 65, 60, 13, 33, 6, 1, 25, 42]\n"
     ]
    }
   ],
   "source": [
    "import random as r\n",
    "elementos=[]\n",
    "for x in range(1,41):\n",
    "    elementos.append(r.randint(1,100))\n",
    "print(\"La lista de 40 elementos aleatorios enteros es: \",elementos)"
   ]
  },
  {
   "cell_type": "markdown",
   "metadata": {},
   "source": [
    "- Con una funcion (def) crear dos listas nuevas a partir de la lista creada por numeros aleatorios, en la cual en una esten los   elementos pares, y en la otra los elementos impares.\n"
   ]
  },
  {
   "cell_type": "code",
   "execution_count": 45,
   "metadata": {},
   "outputs": [],
   "source": [
    "def paresimpares(numeros):\n",
    "    pares=[]\n",
    "    impares=[]\n",
    "    for elementos in numeros:\n",
    "        if(elementos%2==0):\n",
    "            pares.append(elementos)\n",
    "        else:\n",
    "            impares.append(elementos)\n",
    "    return pares, impares"
   ]
  },
  {
   "cell_type": "code",
   "execution_count": 46,
   "metadata": {},
   "outputs": [
    {
     "name": "stdout",
     "output_type": "stream",
     "text": [
      "[98, 32, 98, 20, 2, 2, 98, 82, 94, 20, 80, 10, 4, 42, 48, 60, 6, 42]\n",
      "[75, 97, 71, 63, 37, 25, 97, 31, 61, 73, 29, 89, 71, 29, 49, 13, 15, 65, 13, 33, 1, 25]\n"
     ]
    }
   ],
   "source": [
    "pares,impares=paresimpares(elementos)\n",
    "print(pares)\n",
    "print(impares)"
   ]
  },
  {
   "cell_type": "markdown",
   "metadata": {},
   "source": [
    "- Crear dos variables con la longitud de ambas listas nuevas e imprimir las variables.\n"
   ]
  },
  {
   "cell_type": "code",
   "execution_count": 47,
   "metadata": {},
   "outputs": [
    {
     "name": "stdout",
     "output_type": "stream",
     "text": [
      "El tamaño de la lista par es de:  18  Y tamaño de la lista impar es:  22\n"
     ]
    }
   ],
   "source": [
    "y=len(pares)\n",
    "z=len(impares)\n",
    "print(\"El tamaño de la lista par es de: \",y,\" Y tamaño de la lista impar es: \",z)"
   ]
  },
  {
   "cell_type": "markdown",
   "metadata": {},
   "source": [
    "- Ordenar los elementos de la lista par de mayor a menor, y los de la lista impar de menor a mayor.\n"
   ]
  },
  {
   "cell_type": "code",
   "execution_count": 48,
   "metadata": {},
   "outputs": [
    {
     "name": "stdout",
     "output_type": "stream",
     "text": [
      "La lista par ordenados de mayor a menor:  [98, 98, 98, 94, 82, 80, 60, 48, 42, 42, 32, 20, 20, 10, 6, 4, 2, 2]\n",
      "La lista impar ordenada de menor a mayor:  [1, 13, 13, 15, 25, 25, 29, 29, 31, 33, 37, 49, 61, 63, 65, 71, 71, 73, 75, 89, 97, 97]\n"
     ]
    }
   ],
   "source": [
    "pares.sort(reverse=True)\n",
    "print(\"La lista par ordenados de mayor a menor: \", pares)\n",
    "impares.sort()\n",
    "print(\"La lista impar ordenada de menor a mayor: \", impares)\n",
    "#Bibliografia: https://j2logo.com/python/ordenar-una-lista-en-python/ "
   ]
  },
  {
   "cell_type": "markdown",
   "metadata": {},
   "source": [
    "- Utilizar al menos cuatro de las funciones de listas en python en la lista original de 40 elementos."
   ]
  },
  {
   "cell_type": "code",
   "execution_count": 49,
   "metadata": {},
   "outputs": [
    {
     "name": "stdout",
     "output_type": "stream",
     "text": [
      "Elimina el ultimo elemento de la lista  [98, 75, 97, 32, 98, 20, 71, 63, 2, 2, 98, 37, 25, 97, 31, 61, 82, 94, 73, 29, 89, 71, 20, 29, 49, 80, 13, 15, 10, 4, 42, 48, 65, 60, 13, 33, 6, 1, 25]\n",
      "Imprimimos la lista al reves  [25, 1, 6, 33, 13, 60, 65, 48, 42, 4, 10, 15, 13, 80, 49, 29, 20, 71, 89, 29, 73, 94, 82, 61, 31, 97, 25, 37, 98, 2, 2, 63, 71, 20, 98, 32, 97, 75, 98]\n",
      "Añadimos 4 elementos a nuestra lista original  [25, 1, 6, 33, 13, 60, 65, 48, 42, 4, 10, 15, 13, 80, 49, 29, 20, 71, 89, 29, 73, 94, 82, 61, 31, 97, 25, 37, 98, 2, 2, 63, 71, 20, 98, 32, 97, 75, 98, 0, 1, 0, 1]\n",
      "Insertamos una palabra en una especifica localización [25, 1, 6, 33, 'MINERIA', 13, 60, 65, 48, 42, 4, 10, 15, 13, 80, 49, 29, 20, 71, 89, 29, 73, 94, 82, 61, 31, 97, 25, 37, 98, 2, 2, 63, 71, 20, 98, 32, 97, 75, 98, 0, 1, 0, 1]\n"
     ]
    }
   ],
   "source": [
    "elementos.pop()\n",
    "print(\"Elimina el ultimo elemento de la lista \", elementos)\n",
    "elementos.reverse()\n",
    "print(\"Imprimimos la lista al reves \", elementos)\n",
    "elementos.extend([0,1,0,1])\n",
    "print(\"Añadimos 4 elementos a nuestra lista original \", elementos)\n",
    "elementos.insert(4, 'MINERIA')\n",
    "print(\"Insertamos una palabra en una especifica localización\",elementos)"
   ]
  },
  {
   "cell_type": "markdown",
   "metadata": {},
   "source": [
    "## Diccionarios\n",
    "- Crear un diccionario de 6 personas que conozcas con su primer nombre y su edad."
   ]
  },
  {
   "cell_type": "code",
   "execution_count": 50,
   "metadata": {},
   "outputs": [],
   "source": [
    "dic = {'Marisol': 19, 'Luisa': 17, 'Oziel': 20, 'Elva':50, 'Ana':20, 'Sofia':20}"
   ]
  },
  {
   "cell_type": "markdown",
   "metadata": {},
   "source": [
    "\n",
    "- Crear una lista con los valores de la edad y reacomodar la lista de menor a mayor valor.\n",
    "\n"
   ]
  },
  {
   "cell_type": "code",
   "execution_count": 52,
   "metadata": {},
   "outputs": [
    {
     "name": "stdout",
     "output_type": "stream",
     "text": [
      "La lista ordenada de menor a mayor:  [17, 19, 20, 20, 20, 50]\n"
     ]
    }
   ],
   "source": [
    "edades= list(dic.values())\n",
    "type(edades)\n",
    "edades.sort()\n",
    "print(\"La lista ordenada de menor a mayor: \", edades)"
   ]
  },
  {
   "cell_type": "markdown",
   "metadata": {},
   "source": [
    "- Usando el diccionario y un loop, imprimir solo los nombres.\n"
   ]
  },
  {
   "cell_type": "code",
   "execution_count": 53,
   "metadata": {},
   "outputs": [
    {
     "name": "stdout",
     "output_type": "stream",
     "text": [
      "Impresión solo de nombres ingresados en el diccionario\n",
      "Marisol\n",
      "Luisa\n",
      "Oziel\n",
      "Elva\n",
      "Ana\n",
      "Sofia\n"
     ]
    }
   ],
   "source": [
    "print(\"Impresión solo de nombres ingresados en el diccionario\")\n",
    "for i in dic: \n",
    "    print(i)"
   ]
  },
  {
   "cell_type": "markdown",
   "metadata": {},
   "source": [
    "- Añadir dos personas nuevas a tu diccionario, incluyendo edad."
   ]
  },
  {
   "cell_type": "code",
   "execution_count": 28,
   "metadata": {},
   "outputs": [
    {
     "name": "stdout",
     "output_type": "stream",
     "text": [
      "El diccionario se actualizo de acuerdo a lo recien agregado:  {'Marisol': 19, 'Luisa': 17, 'Oziel': 20, 'Elva': 50, 'Ana': 20, 'Sofia': 20, 'Michelle': 20, 'Tania': 20}\n"
     ]
    }
   ],
   "source": [
    "dic['Michelle']=20\n",
    "dic['Tania']=20\n",
    "print(\"El diccionario se actualizo de acuerdo a lo recien agregado: \", dic)\n",
    "#Bibliografia: http://elclubdelautodidacta.es/wp/2012/08/python-agregar-y-eliminar-elementos-de-un-diccionario/ "
   ]
  },
  {
   "cell_type": "markdown",
   "metadata": {},
   "source": [
    "## Sets\n",
    "- Crea un set con 100 numeros aleatorios enteros del 1 al 25.\n"
   ]
  },
  {
   "cell_type": "code",
   "execution_count": 54,
   "metadata": {},
   "outputs": [
    {
     "name": "stdout",
     "output_type": "stream",
     "text": [
      "Como podemos ver Set solo consiste de elementos unicos:  {1, 2, 3, 4, 5, 6, 7, 8, 9, 10, 11, 12, 13, 14, 15, 16, 17, 18, 19, 20, 21, 22, 23, 24, 25}\n"
     ]
    },
    {
     "data": {
      "text/plain": [
       "set"
      ]
     },
     "execution_count": 54,
     "metadata": {},
     "output_type": "execute_result"
    }
   ],
   "source": [
    "import random as r \n",
    "sets1=set()\n",
    "for x in range(1,101):\n",
    "    sets1.add(r.randint(1,25))\n",
    "print(\"Como podemos ver Set solo consiste de elementos unicos: \", sets1)\n",
    "type(sets1)\n",
    "#Bibliografia https://github.com/mayraberrones94/Ciencia_de_Datos/blob/master/Mineria-datos/Libros/Valentina%20Porcu%20-%20Python%20for%20Data%20Mining%20Quick%20Syntax%20Reference-Apress%20(2019).pdf  \n",
    "#pagina 43 del libro, 55 del PDF"
   ]
  },
  {
   "cell_type": "markdown",
   "metadata": {},
   "source": [
    "\n",
    "- Comprueba la longitud de tu set.\n"
   ]
  },
  {
   "cell_type": "code",
   "execution_count": 55,
   "metadata": {},
   "outputs": [
    {
     "name": "stdout",
     "output_type": "stream",
     "text": [
      "La longitud del Set es:  25\n"
     ]
    }
   ],
   "source": [
    "len(sets1)\n",
    "print(\"La longitud del Set es: \", len(sets1))"
   ]
  },
  {
   "cell_type": "markdown",
   "metadata": {},
   "source": [
    "\n",
    "- Crea una lista de 5 numeros aleatorios del 1 al 10 y comprueba si cada valor aparece en el set inicial."
   ]
  },
  {
   "cell_type": "code",
   "execution_count": 56,
   "metadata": {},
   "outputs": [
    {
     "name": "stdout",
     "output_type": "stream",
     "text": [
      "La lista de 5 elementos aleatorios enteros es:  [1, 8, 7, 3, 8]\n"
     ]
    }
   ],
   "source": [
    "import random as r\n",
    "aleatorio=[]\n",
    "for x in range(1,6):\n",
    "    aleatorio.append(r.randint(1,10))\n",
    "print(\"La lista de 5 elementos aleatorios enteros es: \",aleatorio)\n",
    "\n",
    "   "
   ]
  },
  {
   "cell_type": "code",
   "execution_count": 58,
   "metadata": {},
   "outputs": [
    {
     "name": "stdout",
     "output_type": "stream",
     "text": [
      "Los valores que coinciden entre la lista aleatoria y el set inicial son:  [1, 3, 7, 8, 8]\n"
     ]
    }
   ],
   "source": [
    "a=list(sets1)\n",
    "aleatorio \n",
    "comprobar=[]\n",
    "for item_a in a:\n",
    "    for item_b in aleatorio:\n",
    "        if item_a == item_b:\n",
    "            comprobar.append(item_a)\n",
    "print(\"Los valores que coinciden entre la lista aleatoria y el set inicial son: \",comprobar)"
   ]
  }
 ],
 "metadata": {
  "kernelspec": {
   "display_name": "Python 3",
   "language": "python",
   "name": "python3"
  },
  "language_info": {
   "codemirror_mode": {
    "name": "ipython",
    "version": 3
   },
   "file_extension": ".py",
   "mimetype": "text/x-python",
   "name": "python",
   "nbconvert_exporter": "python",
   "pygments_lexer": "ipython3",
   "version": "3.8.3"
  }
 },
 "nbformat": 4,
 "nbformat_minor": 4
}
