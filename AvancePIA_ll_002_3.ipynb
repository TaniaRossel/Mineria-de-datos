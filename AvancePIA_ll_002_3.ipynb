{
 "cells": [
  {
   "cell_type": "markdown",
   "metadata": {},
   "source": [
    "$$UNIVERSIDAD\\hspace{2mm} AUTÓNOMA\\hspace{2mm} DE\\hspace{2mm} NUEVO\\hspace{2mm} LEÓN $$$$Facultad\\hspace{1mm}  de\\hspace {1mm}Ciencias\\hspace{1mm} Físico-Matemáticas $$$$Minería\\hspace{1mm}de\\hspace{1mm}Datos$$$$\\hspace{1mm}$$"
   ]
  },
  {
   "cell_type": "markdown",
   "metadata": {
    "id": "3VPr-5LyiiLI"
   },
   "source": [
    "## **Equipo 3**\n",
    "\n",
    "## **Grupo 002, Frecuencia: miércoles**\n",
    "\n",
    "1805800 MARTINEZ JIMENEZ GLORIA NOHEMI \n",
    "\n",
    "1798528 NORIEGA ORTEGA MIGUEL ALEJANDRO  \n",
    "\n",
    "1810461 ROSSEL CASTILLO TANIA SARAHI \n"
   ]
  },
  {
   "cell_type": "markdown",
   "metadata": {},
   "source": [
    ">$$BASE\\hspace{1mm} DE\\hspace{1mm} \\hspace{1mm} DATOS:\\hspace{1mm}World\\hspace{1mm}Happiness\\hspace{1mm}Report\\hspace{1mm}$$"
   ]
  },
  {
   "cell_type": "markdown",
   "metadata": {
    "id": "R2Azd8UomsGA"
   },
   "source": [
    ">**DESCRIPCIÓN DE LOS DATOS**\n",
    "\n",
    "Los datos encontrados en la base de datos son múltiples tablas las cuales consisten en el puntaje o nivel de felicidad por país según una encuesta realizada por el “Gallup World Poll”, el puntaje de felicidad es la suma de ciertos factores los cuales están detallados en la tabla individualmente\n",
    "La base de datos a utilizar posee 10 columnas las cuales son: \n",
    "\n",
    "•\t**PIB per Cápita:** Cuanto influye el ingreso per cápita en la felicidad. (Número) \n",
    "\n",
    "•\t**Familia:** Que tanto influye la familia en la felicidad. (Número)\n",
    "\n",
    "•\t**Esperanza de vida:** Cuanto influye la esperanza de vida en la felicidad. (Número)\n",
    "\n",
    "•\t**Libertad:** Que tanto influye la libertad en la felicidad. (Número)\n",
    "\n",
    "•\t**Generosidad:** Que tanto influye la generosidad en la felicidad. (Número)\n",
    "\n",
    "•\t**Confianza en el Gobierno/Corrupción:** Que tanto influye la confianza en el gobierno en la felicidad. (Número)\n",
    "\n",
    "•\t**Puntaje de felicidad:** Suma de las columnas ya mencionadas. (Número)\n",
    "\n",
    "•\t**País.** (Texto)\n",
    "\n",
    "•\t**Regiones** (Texto)\n",
    "\n",
    "•\t**Ranking General:** Orden del país con mayor puntaje de felicidad al país con menor puntaje. (Número)\n",
    "\n",
    "El **tamaño de nuestra base de datos** es de 157 filas y 13 columnas \n",
    "\n",
    "Los **tipos de datos** con los que trabajaremos son:\n",
    "\n",
    "Country                      (object)\n",
    "\n",
    "Region                       (object)\n",
    "\n",
    "Happiness_Score             (float64)\n",
    "\n",
    "Happiness_score_ajustado    (float64)\n",
    "\n",
    "Economia                    (float64)\n",
    "\n",
    "Familia                     (float64)\n",
    "\n",
    "Salud                       (float64)\n",
    "\n",
    "Libertad                    (float64)\n",
    "\n",
    "Transparencia               (float64)\n",
    "\n",
    "Generosidad                 (float64)"
   ]
  },
  {
   "cell_type": "markdown",
   "metadata": {
    "id": "IZreRI1xuyCe"
   },
   "source": [
    ">**JUSTIFICACIÓN DEL USO DE DATOS**\n",
    "\n",
    "La base de datos nos interesó mucho ya que estudia la felicidad a través del mundo lo cual es un tema bastante interesante y que puede dar pie a varios cambios, una vez que se analiza la base de datos se puede identificar qué factores son los que más influyen en la felicidad de los habitantes de un país especifico. \n",
    "\n",
    "El beneficio que encontramos al trabajar con esta información es que al analizar esta base de datos se puede trabajar directamente en un área o factor para que de esta manera pueda aumentar más felicidad de los ciudadanos, viéndolo de otra forma también podemos analizar qué impacto puede tener en una persona el que su área o factor que le da más felicidad este siendo descuidada, si esto solo causa una menor felicidad o si puede llegar a causar problemas mentales o ser un punto de alto riesgo para suicidio.\n",
    "Esta segunda idea fue la que más nos interesó y es en la cual nos concentraremos durante el proyecto.\n"
   ]
  },
  {
   "cell_type": "markdown",
   "metadata": {
    "id": "PiMEENpaxNmW"
   },
   "source": [
    ">**OBJETIVOS**\n",
    " \n",
    "**El objetivo Principal** que tenemos es el de encontrar cuales factores son los que influyen más en el nivel de felicidad de la población para de esa manera aislar ese factor como el más importante ya que si en dado caso llegara a faltar o reducirse podría afectar la salud mental de las personas siendo un alto potencial de suicidio.\n",
    "\n",
    "**Un objetivo secundario** podría ser el de encontrar que áreas y grupos son los más vulnerables a sufrir de depresión y problemas mentales, este objetivo se puede analizar más a fondo utilizando la base de datos secundaria “Mental Health and Suicide Rates”\n",
    "(https://www.kaggle.com/twinkle0705/mental-health-and-suiciderates?select=Crude+suicide+rates.csv), la cual posee datos sobre los hospitales y personal\n",
    "preparado para ayudar en esos casos, así como estadísticas sobre los suicidios divididos por edades y países para una identificación más fácil de grupos vulnerables."
   ]
  },
  {
   "cell_type": "markdown",
   "metadata": {
    "id": "pxifmPeB6LmP"
   },
   "source": [
    ">**LIMPIEZA DE LOS DATOS**\n",
    "\n",
    "Primeramente importamos nuestra librería a trabajar "
   ]
  },
  {
   "cell_type": "code",
   "execution_count": 2,
   "metadata": {},
   "outputs": [],
   "source": [
    "import pandas as pd"
   ]
  },
  {
   "cell_type": "markdown",
   "metadata": {},
   "source": [
    "Leemos y mostramos las primeras filas de nuestra base de datos"
   ]
  },
  {
   "cell_type": "code",
   "execution_count": 3,
   "metadata": {},
   "outputs": [],
   "source": [
    "df = pd.read_csv(\"2016.csv\")"
   ]
  },
  {
   "cell_type": "markdown",
   "metadata": {},
   "source": [
    "Verificamos que el tamaño de la base de datos corresponda a lo antes mencionado "
   ]
  },
  {
   "cell_type": "code",
   "execution_count": 4,
   "metadata": {},
   "outputs": [
    {
     "data": {
      "text/plain": [
       "(157, 13)"
      ]
     },
     "execution_count": 4,
     "metadata": {},
     "output_type": "execute_result"
    }
   ],
   "source": [
    "df.shape"
   ]
  },
  {
   "cell_type": "code",
   "execution_count": 5,
   "metadata": {},
   "outputs": [
    {
     "data": {
      "text/html": [
       "<div>\n",
       "<style scoped>\n",
       "    .dataframe tbody tr th:only-of-type {\n",
       "        vertical-align: middle;\n",
       "    }\n",
       "\n",
       "    .dataframe tbody tr th {\n",
       "        vertical-align: top;\n",
       "    }\n",
       "\n",
       "    .dataframe thead th {\n",
       "        text-align: right;\n",
       "    }\n",
       "</style>\n",
       "<table border=\"1\" class=\"dataframe\">\n",
       "  <thead>\n",
       "    <tr style=\"text-align: right;\">\n",
       "      <th></th>\n",
       "      <th>Country</th>\n",
       "      <th>Region</th>\n",
       "      <th>Happiness Rank</th>\n",
       "      <th>Happiness Score</th>\n",
       "      <th>Lower Confidence Interval</th>\n",
       "      <th>Upper Confidence Interval</th>\n",
       "      <th>Economy (GDP per Capita)</th>\n",
       "      <th>Family</th>\n",
       "      <th>Health (Life Expectancy)</th>\n",
       "      <th>Freedom</th>\n",
       "      <th>Trust (Government Corruption)</th>\n",
       "      <th>Generosity</th>\n",
       "      <th>Dystopia Residual</th>\n",
       "    </tr>\n",
       "  </thead>\n",
       "  <tbody>\n",
       "    <tr>\n",
       "      <th>0</th>\n",
       "      <td>Denmark</td>\n",
       "      <td>Western Europe</td>\n",
       "      <td>1</td>\n",
       "      <td>7.526</td>\n",
       "      <td>7.460</td>\n",
       "      <td>7.592</td>\n",
       "      <td>1.44178</td>\n",
       "      <td>1.16374</td>\n",
       "      <td>0.79504</td>\n",
       "      <td>0.57941</td>\n",
       "      <td>0.44453</td>\n",
       "      <td>0.36171</td>\n",
       "      <td>2.73939</td>\n",
       "    </tr>\n",
       "    <tr>\n",
       "      <th>1</th>\n",
       "      <td>Switzerland</td>\n",
       "      <td>Western Europe</td>\n",
       "      <td>2</td>\n",
       "      <td>7.509</td>\n",
       "      <td>7.428</td>\n",
       "      <td>7.590</td>\n",
       "      <td>1.52733</td>\n",
       "      <td>1.14524</td>\n",
       "      <td>0.86303</td>\n",
       "      <td>0.58557</td>\n",
       "      <td>0.41203</td>\n",
       "      <td>0.28083</td>\n",
       "      <td>2.69463</td>\n",
       "    </tr>\n",
       "    <tr>\n",
       "      <th>2</th>\n",
       "      <td>Iceland</td>\n",
       "      <td>Western Europe</td>\n",
       "      <td>3</td>\n",
       "      <td>7.501</td>\n",
       "      <td>7.333</td>\n",
       "      <td>7.669</td>\n",
       "      <td>1.42666</td>\n",
       "      <td>1.18326</td>\n",
       "      <td>0.86733</td>\n",
       "      <td>0.56624</td>\n",
       "      <td>0.14975</td>\n",
       "      <td>0.47678</td>\n",
       "      <td>2.83137</td>\n",
       "    </tr>\n",
       "    <tr>\n",
       "      <th>3</th>\n",
       "      <td>Norway</td>\n",
       "      <td>Western Europe</td>\n",
       "      <td>4</td>\n",
       "      <td>7.498</td>\n",
       "      <td>7.421</td>\n",
       "      <td>7.575</td>\n",
       "      <td>1.57744</td>\n",
       "      <td>1.12690</td>\n",
       "      <td>0.79579</td>\n",
       "      <td>0.59609</td>\n",
       "      <td>0.35776</td>\n",
       "      <td>0.37895</td>\n",
       "      <td>2.66465</td>\n",
       "    </tr>\n",
       "    <tr>\n",
       "      <th>4</th>\n",
       "      <td>Finland</td>\n",
       "      <td>Western Europe</td>\n",
       "      <td>5</td>\n",
       "      <td>7.413</td>\n",
       "      <td>7.351</td>\n",
       "      <td>7.475</td>\n",
       "      <td>1.40598</td>\n",
       "      <td>1.13464</td>\n",
       "      <td>0.81091</td>\n",
       "      <td>0.57104</td>\n",
       "      <td>0.41004</td>\n",
       "      <td>0.25492</td>\n",
       "      <td>2.82596</td>\n",
       "    </tr>\n",
       "  </tbody>\n",
       "</table>\n",
       "</div>"
      ],
      "text/plain": [
       "       Country          Region  Happiness Rank  Happiness Score  \\\n",
       "0      Denmark  Western Europe               1            7.526   \n",
       "1  Switzerland  Western Europe               2            7.509   \n",
       "2      Iceland  Western Europe               3            7.501   \n",
       "3       Norway  Western Europe               4            7.498   \n",
       "4      Finland  Western Europe               5            7.413   \n",
       "\n",
       "   Lower Confidence Interval  Upper Confidence Interval  \\\n",
       "0                      7.460                      7.592   \n",
       "1                      7.428                      7.590   \n",
       "2                      7.333                      7.669   \n",
       "3                      7.421                      7.575   \n",
       "4                      7.351                      7.475   \n",
       "\n",
       "   Economy (GDP per Capita)   Family  Health (Life Expectancy)  Freedom  \\\n",
       "0                   1.44178  1.16374                   0.79504  0.57941   \n",
       "1                   1.52733  1.14524                   0.86303  0.58557   \n",
       "2                   1.42666  1.18326                   0.86733  0.56624   \n",
       "3                   1.57744  1.12690                   0.79579  0.59609   \n",
       "4                   1.40598  1.13464                   0.81091  0.57104   \n",
       "\n",
       "   Trust (Government Corruption)  Generosity  Dystopia Residual  \n",
       "0                        0.44453     0.36171            2.73939  \n",
       "1                        0.41203     0.28083            2.69463  \n",
       "2                        0.14975     0.47678            2.83137  \n",
       "3                        0.35776     0.37895            2.66465  \n",
       "4                        0.41004     0.25492            2.82596  "
      ]
     },
     "execution_count": 5,
     "metadata": {},
     "output_type": "execute_result"
    }
   ],
   "source": [
    "df.head()"
   ]
  },
  {
   "cell_type": "markdown",
   "metadata": {},
   "source": [
    "Comenzamos a añadir columnas y eliminar las que no son necesarias"
   ]
  },
  {
   "cell_type": "code",
   "execution_count": 6,
   "metadata": {},
   "outputs": [],
   "source": [
    "df['Happiness score ajustado']= df['Happiness Score']-df['Dystopia Residual']\n",
    "df.drop(['Upper Confidence Interval','Happiness Rank','Lower Confidence Interval','Dystopia Residual'],axis = 1, inplace= True)"
   ]
  },
  {
   "cell_type": "markdown",
   "metadata": {},
   "source": [
    "Creamos una nueva columna llamada \"Happiness score ajustado\" en la cual se resta el \"Happiness score\" - \"Dystopia Residual\", esto debido a que en el \"Happiness score\" toman en cuenta el \"Dystopia Residual\", (La distopía es un país imaginario que tiene las personas menos felices del mundo. El propósito de establecer Dystopia es tener un punto de referencia con el cual todos los países puedan ser comparados favorablemente) y esta la toman como parte de la calificación por lo que para nuestros análisis solo tomaremos en cuenta los 6 factores los cuales son (Economía, Familia, Libertad, Salud, Transparencia, Generosidad).\n",
    "\n",
    "Eliminamos los intervalos de confianza, el \"Happiness Rank\" y la \"Dystopia Residual\" debido a que no nos serán útil para nuestro análisis, el \"Happiness Rank\" se eliminó debido a que solo era la posición en la que se encontraba el país de acuerdo a su \"Happiness Score\" por lo que no es útil para el análisis, la \"Dystopia Residual\" no nos es útil por lo mencionado en el párrafo anterior y los intervalos de confianza son innecesarios para el análisis\n",
    "\n",
    "Mostramos la base de datos con las modificaciones anteriores"
   ]
  },
  {
   "cell_type": "code",
   "execution_count": 7,
   "metadata": {},
   "outputs": [
    {
     "data": {
      "text/html": [
       "<div>\n",
       "<style scoped>\n",
       "    .dataframe tbody tr th:only-of-type {\n",
       "        vertical-align: middle;\n",
       "    }\n",
       "\n",
       "    .dataframe tbody tr th {\n",
       "        vertical-align: top;\n",
       "    }\n",
       "\n",
       "    .dataframe thead th {\n",
       "        text-align: right;\n",
       "    }\n",
       "</style>\n",
       "<table border=\"1\" class=\"dataframe\">\n",
       "  <thead>\n",
       "    <tr style=\"text-align: right;\">\n",
       "      <th></th>\n",
       "      <th>Country</th>\n",
       "      <th>Region</th>\n",
       "      <th>Happiness Score</th>\n",
       "      <th>Economy (GDP per Capita)</th>\n",
       "      <th>Family</th>\n",
       "      <th>Health (Life Expectancy)</th>\n",
       "      <th>Freedom</th>\n",
       "      <th>Trust (Government Corruption)</th>\n",
       "      <th>Generosity</th>\n",
       "      <th>Happiness score ajustado</th>\n",
       "    </tr>\n",
       "  </thead>\n",
       "  <tbody>\n",
       "    <tr>\n",
       "      <th>0</th>\n",
       "      <td>Denmark</td>\n",
       "      <td>Western Europe</td>\n",
       "      <td>7.526</td>\n",
       "      <td>1.44178</td>\n",
       "      <td>1.16374</td>\n",
       "      <td>0.79504</td>\n",
       "      <td>0.57941</td>\n",
       "      <td>0.44453</td>\n",
       "      <td>0.36171</td>\n",
       "      <td>4.78661</td>\n",
       "    </tr>\n",
       "    <tr>\n",
       "      <th>1</th>\n",
       "      <td>Switzerland</td>\n",
       "      <td>Western Europe</td>\n",
       "      <td>7.509</td>\n",
       "      <td>1.52733</td>\n",
       "      <td>1.14524</td>\n",
       "      <td>0.86303</td>\n",
       "      <td>0.58557</td>\n",
       "      <td>0.41203</td>\n",
       "      <td>0.28083</td>\n",
       "      <td>4.81437</td>\n",
       "    </tr>\n",
       "    <tr>\n",
       "      <th>2</th>\n",
       "      <td>Iceland</td>\n",
       "      <td>Western Europe</td>\n",
       "      <td>7.501</td>\n",
       "      <td>1.42666</td>\n",
       "      <td>1.18326</td>\n",
       "      <td>0.86733</td>\n",
       "      <td>0.56624</td>\n",
       "      <td>0.14975</td>\n",
       "      <td>0.47678</td>\n",
       "      <td>4.66963</td>\n",
       "    </tr>\n",
       "    <tr>\n",
       "      <th>3</th>\n",
       "      <td>Norway</td>\n",
       "      <td>Western Europe</td>\n",
       "      <td>7.498</td>\n",
       "      <td>1.57744</td>\n",
       "      <td>1.12690</td>\n",
       "      <td>0.79579</td>\n",
       "      <td>0.59609</td>\n",
       "      <td>0.35776</td>\n",
       "      <td>0.37895</td>\n",
       "      <td>4.83335</td>\n",
       "    </tr>\n",
       "    <tr>\n",
       "      <th>4</th>\n",
       "      <td>Finland</td>\n",
       "      <td>Western Europe</td>\n",
       "      <td>7.413</td>\n",
       "      <td>1.40598</td>\n",
       "      <td>1.13464</td>\n",
       "      <td>0.81091</td>\n",
       "      <td>0.57104</td>\n",
       "      <td>0.41004</td>\n",
       "      <td>0.25492</td>\n",
       "      <td>4.58704</td>\n",
       "    </tr>\n",
       "  </tbody>\n",
       "</table>\n",
       "</div>"
      ],
      "text/plain": [
       "       Country          Region  Happiness Score  Economy (GDP per Capita)  \\\n",
       "0      Denmark  Western Europe            7.526                   1.44178   \n",
       "1  Switzerland  Western Europe            7.509                   1.52733   \n",
       "2      Iceland  Western Europe            7.501                   1.42666   \n",
       "3       Norway  Western Europe            7.498                   1.57744   \n",
       "4      Finland  Western Europe            7.413                   1.40598   \n",
       "\n",
       "    Family  Health (Life Expectancy)  Freedom  Trust (Government Corruption)  \\\n",
       "0  1.16374                   0.79504  0.57941                        0.44453   \n",
       "1  1.14524                   0.86303  0.58557                        0.41203   \n",
       "2  1.18326                   0.86733  0.56624                        0.14975   \n",
       "3  1.12690                   0.79579  0.59609                        0.35776   \n",
       "4  1.13464                   0.81091  0.57104                        0.41004   \n",
       "\n",
       "   Generosity  Happiness score ajustado  \n",
       "0     0.36171                   4.78661  \n",
       "1     0.28083                   4.81437  \n",
       "2     0.47678                   4.66963  \n",
       "3     0.37895                   4.83335  \n",
       "4     0.25492                   4.58704  "
      ]
     },
     "execution_count": 7,
     "metadata": {},
     "output_type": "execute_result"
    }
   ],
   "source": [
    "df.head()"
   ]
  },
  {
   "cell_type": "markdown",
   "metadata": {},
   "source": [
    "Modificamos el nombre de las columnas para manipularlas de manera más sencilla "
   ]
  },
  {
   "cell_type": "code",
   "execution_count": 8,
   "metadata": {},
   "outputs": [
    {
     "data": {
      "text/html": [
       "<div>\n",
       "<style scoped>\n",
       "    .dataframe tbody tr th:only-of-type {\n",
       "        vertical-align: middle;\n",
       "    }\n",
       "\n",
       "    .dataframe tbody tr th {\n",
       "        vertical-align: top;\n",
       "    }\n",
       "\n",
       "    .dataframe thead th {\n",
       "        text-align: right;\n",
       "    }\n",
       "</style>\n",
       "<table border=\"1\" class=\"dataframe\">\n",
       "  <thead>\n",
       "    <tr style=\"text-align: right;\">\n",
       "      <th></th>\n",
       "      <th>Country</th>\n",
       "      <th>Region</th>\n",
       "      <th>Happiness_Score</th>\n",
       "      <th>Economy</th>\n",
       "      <th>Family</th>\n",
       "      <th>Health</th>\n",
       "      <th>Freedom</th>\n",
       "      <th>Trust</th>\n",
       "      <th>Generosity</th>\n",
       "      <th>Happiness_score_ajustado</th>\n",
       "    </tr>\n",
       "  </thead>\n",
       "  <tbody>\n",
       "    <tr>\n",
       "      <th>0</th>\n",
       "      <td>Denmark</td>\n",
       "      <td>Western Europe</td>\n",
       "      <td>7.526</td>\n",
       "      <td>1.44178</td>\n",
       "      <td>1.16374</td>\n",
       "      <td>0.79504</td>\n",
       "      <td>0.57941</td>\n",
       "      <td>0.44453</td>\n",
       "      <td>0.36171</td>\n",
       "      <td>4.78661</td>\n",
       "    </tr>\n",
       "    <tr>\n",
       "      <th>1</th>\n",
       "      <td>Switzerland</td>\n",
       "      <td>Western Europe</td>\n",
       "      <td>7.509</td>\n",
       "      <td>1.52733</td>\n",
       "      <td>1.14524</td>\n",
       "      <td>0.86303</td>\n",
       "      <td>0.58557</td>\n",
       "      <td>0.41203</td>\n",
       "      <td>0.28083</td>\n",
       "      <td>4.81437</td>\n",
       "    </tr>\n",
       "    <tr>\n",
       "      <th>2</th>\n",
       "      <td>Iceland</td>\n",
       "      <td>Western Europe</td>\n",
       "      <td>7.501</td>\n",
       "      <td>1.42666</td>\n",
       "      <td>1.18326</td>\n",
       "      <td>0.86733</td>\n",
       "      <td>0.56624</td>\n",
       "      <td>0.14975</td>\n",
       "      <td>0.47678</td>\n",
       "      <td>4.66963</td>\n",
       "    </tr>\n",
       "    <tr>\n",
       "      <th>3</th>\n",
       "      <td>Norway</td>\n",
       "      <td>Western Europe</td>\n",
       "      <td>7.498</td>\n",
       "      <td>1.57744</td>\n",
       "      <td>1.12690</td>\n",
       "      <td>0.79579</td>\n",
       "      <td>0.59609</td>\n",
       "      <td>0.35776</td>\n",
       "      <td>0.37895</td>\n",
       "      <td>4.83335</td>\n",
       "    </tr>\n",
       "    <tr>\n",
       "      <th>4</th>\n",
       "      <td>Finland</td>\n",
       "      <td>Western Europe</td>\n",
       "      <td>7.413</td>\n",
       "      <td>1.40598</td>\n",
       "      <td>1.13464</td>\n",
       "      <td>0.81091</td>\n",
       "      <td>0.57104</td>\n",
       "      <td>0.41004</td>\n",
       "      <td>0.25492</td>\n",
       "      <td>4.58704</td>\n",
       "    </tr>\n",
       "  </tbody>\n",
       "</table>\n",
       "</div>"
      ],
      "text/plain": [
       "       Country          Region  Happiness_Score  Economy   Family   Health  \\\n",
       "0      Denmark  Western Europe            7.526  1.44178  1.16374  0.79504   \n",
       "1  Switzerland  Western Europe            7.509  1.52733  1.14524  0.86303   \n",
       "2      Iceland  Western Europe            7.501  1.42666  1.18326  0.86733   \n",
       "3       Norway  Western Europe            7.498  1.57744  1.12690  0.79579   \n",
       "4      Finland  Western Europe            7.413  1.40598  1.13464  0.81091   \n",
       "\n",
       "   Freedom    Trust  Generosity  Happiness_score_ajustado  \n",
       "0  0.57941  0.44453     0.36171                   4.78661  \n",
       "1  0.58557  0.41203     0.28083                   4.81437  \n",
       "2  0.56624  0.14975     0.47678                   4.66963  \n",
       "3  0.59609  0.35776     0.37895                   4.83335  \n",
       "4  0.57104  0.41004     0.25492                   4.58704  "
      ]
     },
     "execution_count": 8,
     "metadata": {},
     "output_type": "execute_result"
    }
   ],
   "source": [
    "df.rename(columns = {'Happiness Score':'Happiness_Score'}, inplace= True)\n",
    "df.rename(columns={'Economy (GDP per Capita)':'Economy'},inplace=True)\n",
    "df.rename(columns= {'Health (Life Expectancy)':'Health'},inplace=True)\n",
    "df.rename(columns={'Trust (Government Corruption)':'Trust'}, inplace=True)\n",
    "df.rename(columns={'Happiness score ajustado':'Happiness_score_ajustado'}, inplace=True)\n",
    "df.head()"
   ]
  },
  {
   "cell_type": "markdown",
   "metadata": {},
   "source": [
    "Además agregamos columnas para calcular la proporción de acuerdo con el Happiness Score Ajustado y hacer una interpretación de los datos de manera más homogénea"
   ]
  },
  {
   "cell_type": "code",
   "execution_count": 9,
   "metadata": {},
   "outputs": [],
   "source": [
    "df['Economia']= df['Economy']/df['Happiness_score_ajustado']\n",
    "df['Familia']= df['Family']/df['Happiness_score_ajustado']\n",
    "df['Salud']= df['Health']/df['Happiness_score_ajustado']\n",
    "df['Libertad']= df['Freedom']/df['Happiness_score_ajustado']\n",
    "df['Transparencia']= df['Trust']/df['Happiness_score_ajustado']\n",
    "df['Generosidad']= df['Generosity']/df['Happiness_score_ajustado']"
   ]
  },
  {
   "cell_type": "markdown",
   "metadata": {},
   "source": [
    "Asi mismo borramos las columnas que no nos serían útil en el análisis ya que solo eran necesarias para poder calcular la proporción y despues de dicho cálculo no resultan necesarias.\n",
    "\n",
    "Asi mismo mostramos la base de datos con los cambios realizados"
   ]
  },
  {
   "cell_type": "code",
   "execution_count": 10,
   "metadata": {},
   "outputs": [
    {
     "data": {
      "text/html": [
       "<div>\n",
       "<style scoped>\n",
       "    .dataframe tbody tr th:only-of-type {\n",
       "        vertical-align: middle;\n",
       "    }\n",
       "\n",
       "    .dataframe tbody tr th {\n",
       "        vertical-align: top;\n",
       "    }\n",
       "\n",
       "    .dataframe thead th {\n",
       "        text-align: right;\n",
       "    }\n",
       "</style>\n",
       "<table border=\"1\" class=\"dataframe\">\n",
       "  <thead>\n",
       "    <tr style=\"text-align: right;\">\n",
       "      <th></th>\n",
       "      <th>Country</th>\n",
       "      <th>Region</th>\n",
       "      <th>Happiness_Score</th>\n",
       "      <th>Happiness_score_ajustado</th>\n",
       "      <th>Economia</th>\n",
       "      <th>Familia</th>\n",
       "      <th>Salud</th>\n",
       "      <th>Libertad</th>\n",
       "      <th>Transparencia</th>\n",
       "      <th>Generosidad</th>\n",
       "    </tr>\n",
       "  </thead>\n",
       "  <tbody>\n",
       "    <tr>\n",
       "      <th>0</th>\n",
       "      <td>Denmark</td>\n",
       "      <td>Western Europe</td>\n",
       "      <td>7.526</td>\n",
       "      <td>4.78661</td>\n",
       "      <td>0.301211</td>\n",
       "      <td>0.243124</td>\n",
       "      <td>0.166097</td>\n",
       "      <td>0.121048</td>\n",
       "      <td>0.092869</td>\n",
       "      <td>0.075567</td>\n",
       "    </tr>\n",
       "    <tr>\n",
       "      <th>1</th>\n",
       "      <td>Switzerland</td>\n",
       "      <td>Western Europe</td>\n",
       "      <td>7.509</td>\n",
       "      <td>4.81437</td>\n",
       "      <td>0.317244</td>\n",
       "      <td>0.237880</td>\n",
       "      <td>0.179261</td>\n",
       "      <td>0.121630</td>\n",
       "      <td>0.085583</td>\n",
       "      <td>0.058332</td>\n",
       "    </tr>\n",
       "    <tr>\n",
       "      <th>2</th>\n",
       "      <td>Iceland</td>\n",
       "      <td>Western Europe</td>\n",
       "      <td>7.501</td>\n",
       "      <td>4.66963</td>\n",
       "      <td>0.305519</td>\n",
       "      <td>0.253395</td>\n",
       "      <td>0.185738</td>\n",
       "      <td>0.121260</td>\n",
       "      <td>0.032069</td>\n",
       "      <td>0.102102</td>\n",
       "    </tr>\n",
       "    <tr>\n",
       "      <th>3</th>\n",
       "      <td>Norway</td>\n",
       "      <td>Western Europe</td>\n",
       "      <td>7.498</td>\n",
       "      <td>4.83335</td>\n",
       "      <td>0.326366</td>\n",
       "      <td>0.233151</td>\n",
       "      <td>0.164646</td>\n",
       "      <td>0.123329</td>\n",
       "      <td>0.074019</td>\n",
       "      <td>0.078403</td>\n",
       "    </tr>\n",
       "    <tr>\n",
       "      <th>4</th>\n",
       "      <td>Finland</td>\n",
       "      <td>Western Europe</td>\n",
       "      <td>7.413</td>\n",
       "      <td>4.58704</td>\n",
       "      <td>0.306511</td>\n",
       "      <td>0.247358</td>\n",
       "      <td>0.176783</td>\n",
       "      <td>0.124490</td>\n",
       "      <td>0.089391</td>\n",
       "      <td>0.055574</td>\n",
       "    </tr>\n",
       "  </tbody>\n",
       "</table>\n",
       "</div>"
      ],
      "text/plain": [
       "       Country          Region  Happiness_Score  Happiness_score_ajustado  \\\n",
       "0      Denmark  Western Europe            7.526                   4.78661   \n",
       "1  Switzerland  Western Europe            7.509                   4.81437   \n",
       "2      Iceland  Western Europe            7.501                   4.66963   \n",
       "3       Norway  Western Europe            7.498                   4.83335   \n",
       "4      Finland  Western Europe            7.413                   4.58704   \n",
       "\n",
       "   Economia   Familia     Salud  Libertad  Transparencia  Generosidad  \n",
       "0  0.301211  0.243124  0.166097  0.121048       0.092869     0.075567  \n",
       "1  0.317244  0.237880  0.179261  0.121630       0.085583     0.058332  \n",
       "2  0.305519  0.253395  0.185738  0.121260       0.032069     0.102102  \n",
       "3  0.326366  0.233151  0.164646  0.123329       0.074019     0.078403  \n",
       "4  0.306511  0.247358  0.176783  0.124490       0.089391     0.055574  "
      ]
     },
     "execution_count": 10,
     "metadata": {},
     "output_type": "execute_result"
    }
   ],
   "source": [
    "df.drop(['Economy','Family','Health','Freedom','Trust','Generosity'],axis = 1, inplace= True)\n",
    "df.head()"
   ]
  },
  {
   "cell_type": "markdown",
   "metadata": {},
   "source": [
    "Verficamos que los tipos de datos a trabajar corresponda con lo anteriormente descrito"
   ]
  },
  {
   "cell_type": "code",
   "execution_count": 11,
   "metadata": {},
   "outputs": [
    {
     "data": {
      "text/plain": [
       "Country                      object\n",
       "Region                       object\n",
       "Happiness_Score             float64\n",
       "Happiness_score_ajustado    float64\n",
       "Economia                    float64\n",
       "Familia                     float64\n",
       "Salud                       float64\n",
       "Libertad                    float64\n",
       "Transparencia               float64\n",
       "Generosidad                 float64\n",
       "dtype: object"
      ]
     },
     "execution_count": 11,
     "metadata": {},
     "output_type": "execute_result"
    }
   ],
   "source": [
    "df.dtypes"
   ]
  },
  {
   "cell_type": "code",
   "execution_count": 12,
   "metadata": {},
   "outputs": [],
   "source": [
    "df.to_csv('2016 modificado.csv')"
   ]
  },
  {
   "cell_type": "markdown",
   "metadata": {},
   "source": [
    ">**ESTADÍSTICA BÁSICA DE LOS DATOS**\n",
    "\n",
    "Como hemos mencionado anteriormente, nuestro análisis se basa en el Happiness score ajustado, por lo que primero revisaremos algunos datos estadísticos sobre este."
   ]
  },
  {
   "cell_type": "code",
   "execution_count": 13,
   "metadata": {},
   "outputs": [
    {
     "data": {
      "text/plain": [
       "3.0563781528662406"
      ]
     },
     "execution_count": 13,
     "metadata": {},
     "output_type": "execute_result"
    }
   ],
   "source": [
    "df[\"Happiness_score_ajustado\"].mean()"
   ]
  },
  {
   "cell_type": "markdown",
   "metadata": {},
   "source": [
    "Obtenemos una media de 3.0563, el promedio de Happiness score ajustado en el mundo es de 3.0563."
   ]
  },
  {
   "cell_type": "markdown",
   "metadata": {},
   "source": [
    "Como nos interesa ver como se comporta este dato, podemos usar describe(), para obtener más información sobre el"
   ]
  },
  {
   "cell_type": "code",
   "execution_count": 14,
   "metadata": {},
   "outputs": [
    {
     "data": {
      "text/plain": [
       "count    157.000000\n",
       "mean       3.056378\n",
       "std        0.961370\n",
       "min        0.800960\n",
       "25%        2.360870\n",
       "50%        3.074130\n",
       "75%        3.654060\n",
       "max        4.858470\n",
       "Name: Happiness_score_ajustado, dtype: float64"
      ]
     },
     "execution_count": 14,
     "metadata": {},
     "output_type": "execute_result"
    }
   ],
   "source": [
    "df['Happiness_score_ajustado'].describe()"
   ]
  },
  {
   "cell_type": "markdown",
   "metadata": {},
   "source": [
    "Vemos que el score ajustado máximo de felicidad en el mundo es del 4.8584 y el score ajustado mínimo de felicidad en el mundo es de 0.800, y se tiene una desviación estándar de 0.9613. "
   ]
  },
  {
   "cell_type": "markdown",
   "metadata": {},
   "source": [
    "Con esto, nos intriga saber cuales son las regiones del mundo con mayor Happiness Score ajustado y a su vez observar como se comportan los factores que influyen en él."
   ]
  },
  {
   "cell_type": "code",
   "execution_count": 15,
   "metadata": {},
   "outputs": [
    {
     "data": {
      "text/html": [
       "<div>\n",
       "<style scoped>\n",
       "    .dataframe tbody tr th:only-of-type {\n",
       "        vertical-align: middle;\n",
       "    }\n",
       "\n",
       "    .dataframe tbody tr th {\n",
       "        vertical-align: top;\n",
       "    }\n",
       "\n",
       "    .dataframe thead th {\n",
       "        text-align: right;\n",
       "    }\n",
       "</style>\n",
       "<table border=\"1\" class=\"dataframe\">\n",
       "  <thead>\n",
       "    <tr style=\"text-align: right;\">\n",
       "      <th></th>\n",
       "      <th>Happiness_score_ajustado</th>\n",
       "      <th>Economia</th>\n",
       "      <th>Familia</th>\n",
       "      <th>Salud</th>\n",
       "      <th>Libertad</th>\n",
       "      <th>Transparencia</th>\n",
       "      <th>Generosidad</th>\n",
       "    </tr>\n",
       "    <tr>\n",
       "      <th>Region</th>\n",
       "      <th></th>\n",
       "      <th></th>\n",
       "      <th></th>\n",
       "      <th></th>\n",
       "      <th></th>\n",
       "      <th></th>\n",
       "      <th></th>\n",
       "    </tr>\n",
       "  </thead>\n",
       "  <tbody>\n",
       "    <tr>\n",
       "      <th>Australia and New Zealand</th>\n",
       "      <td>4.812485</td>\n",
       "      <td>0.291549</td>\n",
       "      <td>0.236582</td>\n",
       "      <td>0.174806</td>\n",
       "      <td>0.119462</td>\n",
       "      <td>0.077040</td>\n",
       "      <td>0.100569</td>\n",
       "    </tr>\n",
       "    <tr>\n",
       "      <th>North America</th>\n",
       "      <td>4.537665</td>\n",
       "      <td>0.325527</td>\n",
       "      <td>0.236346</td>\n",
       "      <td>0.177063</td>\n",
       "      <td>0.116072</td>\n",
       "      <td>0.050322</td>\n",
       "      <td>0.094637</td>\n",
       "    </tr>\n",
       "    <tr>\n",
       "      <th>Western Europe</th>\n",
       "      <td>4.300090</td>\n",
       "      <td>0.332894</td>\n",
       "      <td>0.243134</td>\n",
       "      <td>0.195498</td>\n",
       "      <td>0.108608</td>\n",
       "      <td>0.051278</td>\n",
       "      <td>0.068591</td>\n",
       "    </tr>\n",
       "    <tr>\n",
       "      <th>Eastern Asia</th>\n",
       "      <td>3.723485</td>\n",
       "      <td>0.342941</td>\n",
       "      <td>0.247417</td>\n",
       "      <td>0.217028</td>\n",
       "      <td>0.104640</td>\n",
       "      <td>0.029066</td>\n",
       "      <td>0.058944</td>\n",
       "    </tr>\n",
       "    <tr>\n",
       "      <th>Southeastern Asia</th>\n",
       "      <td>3.333979</td>\n",
       "      <td>0.259970</td>\n",
       "      <td>0.238693</td>\n",
       "      <td>0.165940</td>\n",
       "      <td>0.153107</td>\n",
       "      <td>0.043278</td>\n",
       "      <td>0.138990</td>\n",
       "    </tr>\n",
       "    <tr>\n",
       "      <th>Latin America and Caribbean</th>\n",
       "      <td>3.245672</td>\n",
       "      <td>0.302917</td>\n",
       "      <td>0.275144</td>\n",
       "      <td>0.188557</td>\n",
       "      <td>0.130547</td>\n",
       "      <td>0.033843</td>\n",
       "      <td>0.068979</td>\n",
       "    </tr>\n",
       "    <tr>\n",
       "      <th>Middle East and Northern Africa</th>\n",
       "      <td>3.109376</td>\n",
       "      <td>0.364812</td>\n",
       "      <td>0.222708</td>\n",
       "      <td>0.205001</td>\n",
       "      <td>0.097255</td>\n",
       "      <td>0.048907</td>\n",
       "      <td>0.061336</td>\n",
       "    </tr>\n",
       "    <tr>\n",
       "      <th>Central and Eastern Europe</th>\n",
       "      <td>3.100468</td>\n",
       "      <td>0.337294</td>\n",
       "      <td>0.275400</td>\n",
       "      <td>0.206639</td>\n",
       "      <td>0.095637</td>\n",
       "      <td>0.028629</td>\n",
       "      <td>0.056407</td>\n",
       "    </tr>\n",
       "    <tr>\n",
       "      <th>Southern Asia</th>\n",
       "      <td>2.393184</td>\n",
       "      <td>0.282794</td>\n",
       "      <td>0.181852</td>\n",
       "      <td>0.191571</td>\n",
       "      <td>0.145606</td>\n",
       "      <td>0.047149</td>\n",
       "      <td>0.151043</td>\n",
       "    </tr>\n",
       "    <tr>\n",
       "      <th>Sub-Saharan Africa</th>\n",
       "      <td>1.970062</td>\n",
       "      <td>0.227404</td>\n",
       "      <td>0.297545</td>\n",
       "      <td>0.123430</td>\n",
       "      <td>0.163256</td>\n",
       "      <td>0.063943</td>\n",
       "      <td>0.124374</td>\n",
       "    </tr>\n",
       "  </tbody>\n",
       "</table>\n",
       "</div>"
      ],
      "text/plain": [
       "                                 Happiness_score_ajustado  Economia   Familia  \\\n",
       "Region                                                                          \n",
       "Australia and New Zealand                        4.812485  0.291549  0.236582   \n",
       "North America                                    4.537665  0.325527  0.236346   \n",
       "Western Europe                                   4.300090  0.332894  0.243134   \n",
       "Eastern Asia                                     3.723485  0.342941  0.247417   \n",
       "Southeastern Asia                                3.333979  0.259970  0.238693   \n",
       "Latin America and Caribbean                      3.245672  0.302917  0.275144   \n",
       "Middle East and Northern Africa                  3.109376  0.364812  0.222708   \n",
       "Central and Eastern Europe                       3.100468  0.337294  0.275400   \n",
       "Southern Asia                                    2.393184  0.282794  0.181852   \n",
       "Sub-Saharan Africa                               1.970062  0.227404  0.297545   \n",
       "\n",
       "                                    Salud  Libertad  Transparencia  \\\n",
       "Region                                                               \n",
       "Australia and New Zealand        0.174806  0.119462       0.077040   \n",
       "North America                    0.177063  0.116072       0.050322   \n",
       "Western Europe                   0.195498  0.108608       0.051278   \n",
       "Eastern Asia                     0.217028  0.104640       0.029066   \n",
       "Southeastern Asia                0.165940  0.153107       0.043278   \n",
       "Latin America and Caribbean      0.188557  0.130547       0.033843   \n",
       "Middle East and Northern Africa  0.205001  0.097255       0.048907   \n",
       "Central and Eastern Europe       0.206639  0.095637       0.028629   \n",
       "Southern Asia                    0.191571  0.145606       0.047149   \n",
       "Sub-Saharan Africa               0.123430  0.163256       0.063943   \n",
       "\n",
       "                                 Generosidad  \n",
       "Region                                        \n",
       "Australia and New Zealand           0.100569  \n",
       "North America                       0.094637  \n",
       "Western Europe                      0.068591  \n",
       "Eastern Asia                        0.058944  \n",
       "Southeastern Asia                   0.138990  \n",
       "Latin America and Caribbean         0.068979  \n",
       "Middle East and Northern Africa     0.061336  \n",
       "Central and Eastern Europe          0.056407  \n",
       "Southern Asia                       0.151043  \n",
       "Sub-Saharan Africa                  0.124374  "
      ]
     },
     "execution_count": 15,
     "metadata": {},
     "output_type": "execute_result"
    }
   ],
   "source": [
    "x=df\n",
    "x=x.drop(['Happiness_Score'],axis = 1)\n",
    "x.groupby(['Region']).mean().sort_values('Happiness_score_ajustado',ascending=False)"
   ]
  },
  {
   "cell_type": "markdown",
   "metadata": {},
   "source": [
    "Podemos decir que según nuestros datos, en promedio la región más feliz del mundo es **Australia y Nueva Zelanda** y que en promedio la menos feliz es **Sub-Saharan África**, analizando los factores, vemos que en Australia se le da un mayor peso a la Economía y en Sub-Saharan África se le da un mayor peso a la Familia. "
   ]
  },
  {
   "cell_type": "markdown",
   "metadata": {},
   "source": [
    "Nuestro objetivo principal es averiguar que factores son los que tienen mayor peso en la felicidad de las personas, por lo que obtendremos el promedio de la proporción de cada categoría, para ello primero tenemos que quitar temporalmente las columnas de \"Happiness_Score\" y \"Happiness_score_ajustado\"."
   ]
  },
  {
   "cell_type": "code",
   "execution_count": 16,
   "metadata": {},
   "outputs": [
    {
     "data": {
      "text/plain": [
       "Economia         0.300803\n",
       "Familia          0.261692\n",
       "Salud            0.178657\n",
       "Libertad         0.125701\n",
       "Transparencia    0.046032\n",
       "Generosidad      0.087106\n",
       "dtype: float64"
      ]
     },
     "execution_count": 16,
     "metadata": {},
     "output_type": "execute_result"
    }
   ],
   "source": [
    "y=df\n",
    "y=y.drop(['Happiness_Score','Happiness_score_ajustado'],axis = 1)\n",
    "y.mean()"
   ]
  },
  {
   "cell_type": "markdown",
   "metadata": {},
   "source": [
    "Podemos ver que las categorías que tienen mayor peso en la felicidad para la población mundial son la **Economía**, **Familia** y en tercer lugar la **Salud**. Por ello, nos interesa ver que tanto varían estos 3 factores. "
   ]
  },
  {
   "cell_type": "code",
   "execution_count": 17,
   "metadata": {},
   "outputs": [
    {
     "data": {
      "text/plain": [
       "count    157.000000\n",
       "mean       0.300803\n",
       "std        0.083478\n",
       "min        0.000000\n",
       "25%        0.273336\n",
       "50%        0.321362\n",
       "75%        0.356588\n",
       "max        0.478325\n",
       "Name: Economia, dtype: float64"
      ]
     },
     "execution_count": 17,
     "metadata": {},
     "output_type": "execute_result"
    }
   ],
   "source": [
    "df['Economia'].describe()"
   ]
  },
  {
   "cell_type": "markdown",
   "metadata": {},
   "source": [
    "La Economía a nivel mundial influye aproximadamente un 30% en la felicidad de las personas con un 8.34% de desviación, la cantidad máxima que influye es un 47.83% y la mínima es de un 0%, este dato podría ser anormal."
   ]
  },
  {
   "cell_type": "code",
   "execution_count": 18,
   "metadata": {},
   "outputs": [
    {
     "data": {
      "text/plain": [
       "count    157.000000\n",
       "mean       0.261692\n",
       "std        0.071327\n",
       "min        0.000000\n",
       "25%        0.231776\n",
       "50%        0.265315\n",
       "75%        0.296597\n",
       "max        0.529801\n",
       "Name: Familia, dtype: float64"
      ]
     },
     "execution_count": 18,
     "metadata": {},
     "output_type": "execute_result"
    }
   ],
   "source": [
    "df['Familia'].describe()"
   ]
  },
  {
   "cell_type": "markdown",
   "metadata": {},
   "source": [
    "La Familia a nivel mundial influye aproximadamente un 26% en la felicidad de las personas con un 7.13% de desviación, la cantidad máxima que influye es un 52.98% y la mínima es de un 0%, este dato podría ser anormal."
   ]
  },
  {
   "cell_type": "code",
   "execution_count": 19,
   "metadata": {},
   "outputs": [
    {
     "data": {
      "text/plain": [
       "count    157.000000\n",
       "mean       0.178657\n",
       "std        0.051060\n",
       "min        0.000000\n",
       "25%        0.157450\n",
       "50%        0.180685\n",
       "75%        0.210177\n",
       "max        0.279835\n",
       "Name: Salud, dtype: float64"
      ]
     },
     "execution_count": 19,
     "metadata": {},
     "output_type": "execute_result"
    }
   ],
   "source": [
    "df['Salud'].describe()"
   ]
  },
  {
   "cell_type": "markdown",
   "metadata": {},
   "source": [
    "La Salud a nivel mundial influye aproximadamente un 18% en la felicidad de las personas con un 5.1% de desviación, la cantidad máxima que influye es un 27.98% y la mínima es de un 0%, este dato podría ser anormal."
   ]
  },
  {
   "cell_type": "markdown",
   "metadata": {},
   "source": [
    "Como nos interesa conocer como se relacionan los factores con el Happiness Score ajustado obtenido y entre ellos, calculamos su correlación. "
   ]
  },
  {
   "cell_type": "code",
   "execution_count": 20,
   "metadata": {},
   "outputs": [
    {
     "data": {
      "text/html": [
       "<div>\n",
       "<style scoped>\n",
       "    .dataframe tbody tr th:only-of-type {\n",
       "        vertical-align: middle;\n",
       "    }\n",
       "\n",
       "    .dataframe tbody tr th {\n",
       "        vertical-align: top;\n",
       "    }\n",
       "\n",
       "    .dataframe thead th {\n",
       "        text-align: right;\n",
       "    }\n",
       "</style>\n",
       "<table border=\"1\" class=\"dataframe\">\n",
       "  <thead>\n",
       "    <tr style=\"text-align: right;\">\n",
       "      <th></th>\n",
       "      <th>Happiness_score_ajustado</th>\n",
       "      <th>Economia</th>\n",
       "      <th>Familia</th>\n",
       "      <th>Salud</th>\n",
       "      <th>Libertad</th>\n",
       "      <th>Transparencia</th>\n",
       "      <th>Generosidad</th>\n",
       "    </tr>\n",
       "  </thead>\n",
       "  <tbody>\n",
       "    <tr>\n",
       "      <th>Happiness_score_ajustado</th>\n",
       "      <td>1.000000</td>\n",
       "      <td>0.432782</td>\n",
       "      <td>-0.091113</td>\n",
       "      <td>0.237355</td>\n",
       "      <td>-0.261578</td>\n",
       "      <td>-0.096289</td>\n",
       "      <td>-0.447061</td>\n",
       "    </tr>\n",
       "    <tr>\n",
       "      <th>Economia</th>\n",
       "      <td>0.432782</td>\n",
       "      <td>1.000000</td>\n",
       "      <td>-0.241921</td>\n",
       "      <td>0.305611</td>\n",
       "      <td>-0.563201</td>\n",
       "      <td>-0.445619</td>\n",
       "      <td>-0.673303</td>\n",
       "    </tr>\n",
       "    <tr>\n",
       "      <th>Familia</th>\n",
       "      <td>-0.091113</td>\n",
       "      <td>-0.241921</td>\n",
       "      <td>1.000000</td>\n",
       "      <td>-0.435682</td>\n",
       "      <td>-0.218453</td>\n",
       "      <td>-0.253494</td>\n",
       "      <td>-0.161065</td>\n",
       "    </tr>\n",
       "    <tr>\n",
       "      <th>Salud</th>\n",
       "      <td>0.237355</td>\n",
       "      <td>0.305611</td>\n",
       "      <td>-0.435682</td>\n",
       "      <td>1.000000</td>\n",
       "      <td>-0.378349</td>\n",
       "      <td>-0.266863</td>\n",
       "      <td>-0.300583</td>\n",
       "    </tr>\n",
       "    <tr>\n",
       "      <th>Libertad</th>\n",
       "      <td>-0.261578</td>\n",
       "      <td>-0.563201</td>\n",
       "      <td>-0.218453</td>\n",
       "      <td>-0.378349</td>\n",
       "      <td>1.000000</td>\n",
       "      <td>0.337352</td>\n",
       "      <td>0.323007</td>\n",
       "    </tr>\n",
       "    <tr>\n",
       "      <th>Transparencia</th>\n",
       "      <td>-0.096289</td>\n",
       "      <td>-0.445619</td>\n",
       "      <td>-0.253494</td>\n",
       "      <td>-0.266863</td>\n",
       "      <td>0.337352</td>\n",
       "      <td>1.000000</td>\n",
       "      <td>0.321033</td>\n",
       "    </tr>\n",
       "    <tr>\n",
       "      <th>Generosidad</th>\n",
       "      <td>-0.447061</td>\n",
       "      <td>-0.673303</td>\n",
       "      <td>-0.161065</td>\n",
       "      <td>-0.300583</td>\n",
       "      <td>0.323007</td>\n",
       "      <td>0.321033</td>\n",
       "      <td>1.000000</td>\n",
       "    </tr>\n",
       "  </tbody>\n",
       "</table>\n",
       "</div>"
      ],
      "text/plain": [
       "                          Happiness_score_ajustado  Economia   Familia  \\\n",
       "Happiness_score_ajustado                  1.000000  0.432782 -0.091113   \n",
       "Economia                                  0.432782  1.000000 -0.241921   \n",
       "Familia                                  -0.091113 -0.241921  1.000000   \n",
       "Salud                                     0.237355  0.305611 -0.435682   \n",
       "Libertad                                 -0.261578 -0.563201 -0.218453   \n",
       "Transparencia                            -0.096289 -0.445619 -0.253494   \n",
       "Generosidad                              -0.447061 -0.673303 -0.161065   \n",
       "\n",
       "                             Salud  Libertad  Transparencia  Generosidad  \n",
       "Happiness_score_ajustado  0.237355 -0.261578      -0.096289    -0.447061  \n",
       "Economia                  0.305611 -0.563201      -0.445619    -0.673303  \n",
       "Familia                  -0.435682 -0.218453      -0.253494    -0.161065  \n",
       "Salud                     1.000000 -0.378349      -0.266863    -0.300583  \n",
       "Libertad                 -0.378349  1.000000       0.337352     0.323007  \n",
       "Transparencia            -0.266863  0.337352       1.000000     0.321033  \n",
       "Generosidad              -0.300583  0.323007       0.321033     1.000000  "
      ]
     },
     "execution_count": 20,
     "metadata": {},
     "output_type": "execute_result"
    }
   ],
   "source": [
    "x.corr()"
   ]
  },
  {
   "cell_type": "markdown",
   "metadata": {},
   "source": [
    "Podemos ver que las variables que tienen una correlación positiva son la **Economía** y la **Salud**, esto quiere decir que entre más peso tenga la Economía mayor será el Happiness score ajustado y así mismo con la Salud. \n",
    "\n",
    "Los demás factores se relacionan negativamente, las más fuertes son la **Generosidad** y la **Libertad**, esto nos indica que entre mayor peso se le de a la Generosidad menor será el Happiness score ajustado y así mismo con la Libertad."
   ]
  },
  {
   "cell_type": "markdown",
   "metadata": {},
   "source": [
    "Entre ellos podemos ver diversas combinaciones, algunas de las más interesantes:\n",
    "\n",
    "- Entre mayor peso tiene la **Libertad**,**Generosidad** y**Transparencia**, menor es el peso que tiene la **Economía**\n",
    "- Entre más peso tenga la **Salud** menor peso tiene la **Familia**\n",
    "- Entre mayor peso tenga la **Economía** menor peso tiene la **Libertad**"
   ]
  },
  {
   "cell_type": "markdown",
   "metadata": {},
   "source": [
    ">**GRAFICAS**"
   ]
  },
  {
   "cell_type": "markdown",
   "metadata": {},
   "source": [
    "Con el motivo de una mas facil interpretacion de los datos se adjuntan las siguientes graficas con su respectiva explicacion "
   ]
  },
  {
   "cell_type": "code",
   "execution_count": 24,
   "metadata": {},
   "outputs": [
    {
     "data": {
      "text/plain": [
       "Text(0.5, 1.0, 'Boxplot Happiness Score Adj por región ')"
      ]
     },
     "execution_count": 24,
     "metadata": {},
     "output_type": "execute_result"
    },
    {
     "data": {
      "image/png": "[encoded data removed]",
      "text/plain": [
       "<Figure size 2160x576 with 1 Axes>"
      ]
     },
     "metadata": {},
     "output_type": "display_data"
    }
   ],
   "source": [
    "import matplotlib.pyplot as plt\n",
    "import seaborn as sns\n",
    "\n",
    "sns.set(rc={'figure.figsize':(30,8)})\n",
    "sns.boxplot(x=df[\"Region\"],y=df[\"Happiness_score_ajustado\"],palette=\"husl\")\n",
    "plt.title('Boxplot Happiness Score Adj por región ',size=26)"
   ]
  },
  {
   "cell_type": "markdown",
   "metadata": {},
   "source": [
    "En esta gráfica se analizan la distribución de la felicidad en las distintas regiones del mundo que formaron parte de la base de datos, este análisis nos deja ver que la región con la menor felicidad en promedio es África subsahariana y la región con la mayor felicidad promedio es la de Australia y Nueva Zelanda  "
   ]
  },
  {
   "cell_type": "code",
   "execution_count": 40,
   "metadata": {},
   "outputs": [
    {
     "data": {
      "text/plain": [
       "Text(0.5, 1.0, 'Distribución de factores que influyen en el Happiness Score')"
      ]
     },
     "execution_count": 40,
     "metadata": {},
     "output_type": "execute_result"
    },
    {
     "data": {
      "image/png": "[encoded data removed]",
      "text/plain": [
       "<Figure size 2160x576 with 1 Axes>"
      ]
     },
     "metadata": {},
     "output_type": "display_data"
    }
   ],
   "source": [
    "\n",
    "p=y.mean()\n",
    "\n",
    "var=['Economia','Familia','Salud','Libertad','Transparencia','Generosidad']\n",
    "\n",
    "plt.pie(p,labels=var)\n",
    "p\n",
    "plt.title(\"Distribución de factores que influyen en el Happiness Score\",size=16)"
   ]
  },
  {
   "cell_type": "markdown",
   "metadata": {},
   "source": [
    "A continuación analizamos la distribución de los factores que influyen en la felicidad en el mundo por medio de una gráfica de pastel, la gráfica nos hace darnos cuenta de que los factores que más pesan en la felicidad son la familia y la economía seguido por la salud , esto nos es útil para poder identificar posibles focos rojos en una población la cual pudiera tener problemas en alguna de estas áreas lo cual los haría más propensos a caer en depresión o problemas mentales varios. "
   ]
  },
  {
   "cell_type": "code",
   "execution_count": 32,
   "metadata": {},
   "outputs": [
    {
     "data": {
      "text/plain": [
       "Text(0.5, 1.0, 'Distribución Happiness Score Adj vs Economia')"
      ]
     },
     "execution_count": 32,
     "metadata": {},
     "output_type": "execute_result"
    },
    {
     "data": {
      "image/png": "[encoded data removed]",
      "text/plain": [
       "<Figure size 627.35x432 with 1 Axes>"
      ]
     },
     "metadata": {},
     "output_type": "display_data"
    }
   ],
   "source": [
    "sns.relplot(x=\"Economia\", y=\"Happiness_score_ajustado\", hue=\"Region\", alpha=.5, palette=\"bright\",height=6, data=df)\n",
    "plt.title('Distribución Happiness Score Adj vs Economia',size=16)"
   ]
  },
  {
   "cell_type": "markdown",
   "metadata": {},
   "source": [
    "En este caso ya con lo que hemos aprendido de las gráficas anteriores sabemos que la economía es el factor que más pesa en la felicidad , por esta razón graficamos los puntajes de felicidad contra el peso que tiene la economía en el , podemos notar que en su mayoría los países tienen un valor de entre 0.3 y 0.4 lo cual significa que en la mayor parte de los casos la economía influye entre un 30% y un 40% en la felicidad de los países, también es de destacar que los valores bajos en economía coinciden con los países que tienen un bajo puntaje de felicidad."
   ]
  },
  {
   "cell_type": "code",
   "execution_count": 39,
   "metadata": {},
   "outputs": [
    {
     "data": {
      "text/plain": [
       "Text(0.5, 1.0, 'Correlacion entre las variables')"
      ]
     },
     "execution_count": 39,
     "metadata": {},
     "output_type": "execute_result"
    },
    {
     "data": {
      "image/png": "[encoded data removed]",
      "text/plain": [
       "<Figure size 2160x576 with 2 Axes>"
      ]
     },
     "metadata": {},
     "output_type": "display_data"
    }
   ],
   "source": [
    "sns.heatmap(x.corr(), annot=True, annot_kws={\"size\": 15})\n",
    "plt.title('Correlacion entre las variables',size=20)"
   ]
  },
  {
   "cell_type": "markdown",
   "metadata": {},
   "source": [
    "Por último hacemos está gráfica la cual detalla los valores de correlación entre las variables, como se menciono en la sección anterior los único dos valores con una correlación positiva con la felicidad son la economía y la salud por lo cual entre mas grande sean los valores de economía y salud en teoría mayor debería de ser la felicidad en el país.\n",
    "\n",
    "Los demás factores se relacionan negativamente, las más fuertes son la Generosidad y la Libertad, esto nos indica que entre mayor peso se le de a la Generosidad menor será el Happiness score ajustado y así mismo con la Libertad, esto podria deberse a que estos factores son externos a la persona ya que la generosidad se refiere a que tan generosos son las personas en general y la libertad el que tan libre es la persona lo cual podría depender de su tipo de gobierno o diferentes factores que priven de la libertad a la persona, en ambos casos los factores no dependen del individuo por lo cual podríamos concluir que la felicidad sería mayor si esta proviene en su mayoría de factores que uno pueda controlar ya que de lo contrario dependes en gran medida de las demás personas lo cual no es ideal en ninguna situación."
   ]
  },
  {
   "cell_type": "markdown",
   "metadata": {},
   "source": [
    ">**CONCLUSIÓN**"
   ]
  },
  {
   "cell_type": "markdown",
   "metadata": {},
   "source": [
    "Por la información previamente obtenida hemos avanzado mucho en la meta de encontrar cuales factores son los que influyen más en el nivel de felicidad de la población y el objetivo secundario de encontrar que áreas y grupos son los más vulnerables a sufrir de depresión y problemas mentales.\n",
    "\n",
    "Por lo aprendido ahora sabemos que los factores que más influyen en la felicidad son la familia y la economía y podemos notar que un grupo de riesgo son en general los países de África Sub-sahariana ya que en promedio tienen un nivel de felicidad muy bajo a comparación del resto del mundo.\n",
    "\n",
    "También nos dimos cuenta de que cuando los individuos depositan mucho peso en cuanto a que los hace felices en factores que son externos a ellos como lo son la generosidad y la libertad esto pudiera resultar contra producente ya que al depender en gran medida de un tercero tu nivel de felicidad podría ser más bajo a diferencia de si te concentrarás más en los factores que puede controlar uno mismo.\n",
    "\n",
    "Por último , hasta este punto hemos mantenido la estrategia de análisis de datos que planeamos desde un inicio y nuestro siguiente paso seria el de complementar esta información ya recabada con la base de datos externa \"Mental Health and Suicide Rates” la cual creemos nos puede aportar información valiosa de las tasas de suicidio y enfermedades mentales en paises específicos lo cual nos ayudaría en gran medida a cumplir nuestro objetivo sencudario.  "
   ]
  }
 ],
 "metadata": {
  "colab": {
   "name": "AvancePIA_ll_002_3.ipynb",
   "provenance": []
  },
  "kernelspec": {
   "display_name": "Python 3",
   "language": "python",
   "name": "python3"
  },
  "language_info": {
   "codemirror_mode": {
    "name": "ipython",
    "version": 3
   },
   "file_extension": ".py",
   "mimetype": "text/x-python",
   "name": "python",
   "nbconvert_exporter": "python",
   "pygments_lexer": "ipython3",
   "version": "3.8.3"
  }
 },
 "nbformat": 4,
 "nbformat_minor": 1
}
